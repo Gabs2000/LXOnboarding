{
 "cells": [
  {
   "cell_type": "markdown",
   "metadata": {},
   "source": [
    "# Module 3 - Kata"
   ]
  },
  {
   "cell_type": "markdown",
   "metadata": {},
   "source": [
    "## Exercise: Write declarations `if`, `else`, and `elif`"
   ]
  },
  {
   "cell_type": "code",
   "execution_count": 1,
   "metadata": {},
   "outputs": [
    {
     "name": "stdout",
     "output_type": "stream",
     "text": [
      "Warning, asteroid approaching at high speed\n"
     ]
    }
   ],
   "source": [
    "asteroidSpeed = 49\n",
    "if asteroidSpeed > 25:\n",
    "    print(\"Warning, asteroid approaching at high speed\")\n",
    "else:\n",
    "    print(\"Everything looks normal\")"
   ]
  },
  {
   "cell_type": "markdown",
   "metadata": {},
   "source": [
    "## Exercise: Usage of the operators `and` and `or` "
   ]
  },
  {
   "cell_type": "code",
   "execution_count": 4,
   "metadata": {},
   "outputs": [
    {
     "name": "stdout",
     "output_type": "stream",
     "text": [
      "Nothing interesting happening\n"
     ]
    }
   ],
   "source": [
    "asteroidSpeed = 19\n",
    "if asteroidSpeed > 20:\n",
    "    print(\"Lookup! There is a magic light in the sky\")\n",
    "elif asteroidSpeed == 20:\n",
    "    print(\"Lookup! There is a magic light in the sky\")\n",
    "else:\n",
    "    print(\"Nothing interesting happening\")"
   ]
  },
  {
   "cell_type": "code",
   "execution_count": 5,
   "metadata": {},
   "outputs": [
    {
     "name": "stdout",
     "output_type": "stream",
     "text": [
      "Look up! Magic light on sky\n"
     ]
    }
   ],
   "source": [
    "# Los asteroides de menos de 25 metros se quemarán\n",
    "# Más de 25 pero menos de 1000 golpeará a la tierra y causará mucho daño\n",
    "# Si entra un asteroide con una velocidad mayor igual a 20 se produce un rayo de luz\n",
    "\n",
    "asteroidSpeed = 25\n",
    "asteroidSize = 40\n",
    "if asteroidSpeed > 25 and asteroidSize > 25:\n",
    "    print(\"Warning, dangerous asteroid approaching to Earth\")\n",
    "elif asteroidSpeed >= 20:\n",
    "    print(\"Look up! Magic light on sky\")\n",
    "elif asteroidSize < 25:\n",
    "    print(\"Everything looks fine\")\n",
    "else:\n",
    "    print(\"Everything looks fine\")\n"
   ]
  }
 ],
 "metadata": {
  "interpreter": {
   "hash": "ee9851c62bb9e30aa70b1f3e348a48d90af506bc12b8b01fecc40c5143f1fc1f"
  },
  "kernelspec": {
   "display_name": "Python 3.10.2 64-bit",
   "language": "python",
   "name": "python3"
  },
  "language_info": {
   "codemirror_mode": {
    "name": "ipython",
    "version": 3
   },
   "file_extension": ".py",
   "mimetype": "text/x-python",
   "name": "python",
   "nbconvert_exporter": "python",
   "pygments_lexer": "ipython3",
   "version": "3.10.2"
  },
  "orig_nbformat": 4
 },
 "nbformat": 4,
 "nbformat_minor": 2
}
